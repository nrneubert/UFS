{
 "cells": [
  {
   "cell_type": "code",
   "execution_count": 1,
   "metadata": {},
   "outputs": [],
   "source": [
    "import numpy as np\n",
    "import matplotlib.pyplot as plt\n",
    "from scipy.integrate import quad, quad_vec, cumulative_trapezoid, simpson\n",
    "from tqdm import tqdm\n",
    "import timeit"
   ]
  },
  {
   "cell_type": "code",
   "execution_count": 2,
   "metadata": {},
   "outputs": [],
   "source": [
    "\"\"\"\n",
    "Constants\n",
    "\"\"\"\n",
    "# --> Pulse <--\n",
    "wl = 0.057                      # au\n",
    "epsilon = 1\n",
    "intensity = 10e14 / 3.51e16     # au\n",
    "phi = 0\n",
    "Nc = 1\n",
    "T = Nc * 2*np.pi/wl\n",
    "\n",
    "F0 = np.sqrt(intensity)\n",
    "A0 = F0 / wl\n",
    "\n",
    "Up = A0**2 * 0.25\n",
    "\n",
    "def envelope(t) : \n",
    "    global wl, Nc, T\n",
    "    return np.sin(np.pi*t/T)**2\n",
    "\n",
    "# --> System <--\n",
    "E0 = -0.5                       # au\n"
   ]
  },
  {
   "cell_type": "code",
   "execution_count": 3,
   "metadata": {},
   "outputs": [],
   "source": [
    "def make_grid(yrange, zrange, nmb_pns) : \n",
    "    ylin = np.linspace(yrange[0], yrange[1], nmb_pns)\n",
    "    zlin = np.linspace(zrange[0], zrange[1], nmb_pns)\n",
    "    return ylin, zlin"
   ]
  },
  {
   "cell_type": "code",
   "execution_count": 31,
   "metadata": {},
   "outputs": [],
   "source": [
    "def time_evolution(tp, t0) : \n",
    "    global E0\n",
    "    return np.exp( -1j*E0*(tp-t0) ) \n",
    "\n",
    "def A(t: np.array) : \n",
    "    global A0, epsilon, phi, Nc\n",
    "    prefac = A0 * envelope(t) / ( np.sqrt( 1 + epsilon**2) )\n",
    "\n",
    "    vec = np.stack([\n",
    "                    np.zeros_like(t), \n",
    "                    epsilon*np.sin(wl*t+phi),\n",
    "                    np.cos(wl*t+phi)\n",
    "    ], axis=0)\n",
    "\n",
    "    # returns: (3, len(t))\n",
    "    return prefac * vec\n",
    "\n",
    "def get_alpha_and_betas(tps: np.array, t0: float, N: int) : \n",
    "    alpha_list = np.zeros(shape=(len(tps),3,))\n",
    "    beta_list = np.zeros_like(tps)\n",
    "\n",
    "    for i, tp in enumerate(tps) : \n",
    "        tgrid = np.linspace(t0, tp, N)\n",
    "        A_of_ts = A(tgrid)\n",
    "        A2_of_ts = np.sum(A_of_ts**2, axis=0)  # shape: (len(tps),)\n",
    "\n",
    "        alpha = simpson(y=A_of_ts, x=tgrid)\n",
    "        beta = simpson(y=A2_of_ts, x=tgrid)\n",
    "        #print(beta)\n",
    "        \n",
    "        alpha_list[i] = alpha\n",
    "        beta_list[i] = beta\n",
    "\n",
    "    # returns: \n",
    "    # alpha_list: (len(tps),3)\n",
    "    # beta_list: (len(tps),)\n",
    "    return (alpha_list, beta_list)\n",
    "\n",
    "def ground_state_fourier(k: np.array) : \n",
    "    return 2**(5/2)/(2*np.pi) * 1/( np.dot(k,k) +1)**2\n",
    "\n",
    "def matrix_element(t: float, t0: float, k_range: np.array, N: int) : \n",
    "    # Time grid\n",
    "    ts = np.linspace(t0, t, N)\n",
    "    # Precompute alpha and beta\n",
    "    alphas, betas = get_alpha_and_betas(ts, t0, N)\n",
    "    A_tgrid = A(ts) # each column is Ax(t1), Ay(t1), Az(t1)\n",
    "\n",
    "    # k-vectors\n",
    "    k_ys = np.linspace(k_range[0], k_range[1], N)\n",
    "    k_zs = np.linspace(k_range[0], k_range[1], N)\n",
    "\n",
    "    result = np.zeros((N, N))\n",
    "\n",
    "    for i, k_y in tqdm(enumerate(k_ys)) : \n",
    "        for j, k_z in enumerate(k_zs) : \n",
    "            k_vector = np.array([0.0, k_y, k_z])\n",
    "            k2 = k_vector.dot(k_vector)\n",
    "            \n",
    "            prod = np.dot(A_tgrid.transpose(), k_vector)\n",
    "            \n",
    "            state = np.exp( -1j*0.5*k2*(ts-t0) \n",
    "                           + 1j*np.dot(alphas, k_vector) \n",
    "                           + 1j*0.5*betas ) * time_evolution(t, t0)\n",
    "\n",
    "            integrand = prod * state\n",
    "\n",
    "            # Do simpson integration\n",
    "            integral = simpson(y=integrand, x=ts)\n",
    "\n",
    "            res = -1j * ground_state_fourier(k_vector) * integral\n",
    "\n",
    "            result[i,j] = np.abs(res)**2\n",
    "    \n",
    "    return A_tgrid, k_ys, k_zs, result     \n"
   ]
  },
  {
   "cell_type": "code",
   "execution_count": 32,
   "metadata": {},
   "outputs": [
    {
     "name": "stdout",
     "output_type": "stream",
     "text": [
      "[ 0.00000000e+00  3.45079517e-01  1.00223854e+00  5.74816307e-01\n",
      " -1.21373189e+00 -2.60285644e+00 -2.14524366e+00 -7.01774981e-01\n",
      "  3.01905457e-02  3.14035172e-32]\n",
      "[[ 0.00000000e+00  0.00000000e+00  0.00000000e+00]\n",
      " [ 0.00000000e+00  5.02678328e-01  8.72722732e-01]\n",
      " [ 0.00000000e+00  6.26925522e+00  3.69433264e+00]\n",
      " [ 0.00000000e+00  2.06552682e+01  6.57412828e-01]\n",
      " [ 0.00000000e+00  3.45667613e+01 -1.63775611e+01]\n",
      " [ 0.00000000e+00  3.46418584e+01 -4.12922977e+01]\n",
      " [ 0.00000000e+00  2.07259963e+01 -5.85272316e+01]\n",
      " [ 0.00000000e+00  6.02459921e+00 -6.16354898e+01]\n",
      " [ 0.00000000e+00  1.51131848e-02 -5.84019709e+01]\n",
      " [ 0.00000000e+00 -1.07452081e-02 -5.70907165e+01]]\n"
     ]
    }
   ],
   "source": [
    "# Time grid for precomputations\n",
    "N = 10\n",
    "t0 = 0.0\n",
    "ts = np.linspace(t0, T, N)\n",
    "dt = ts[1] - ts[0]\n",
    "\n",
    "A_ts = A(ts)\n",
    "k = np.array([0.0, 1.0, 2.0])\n",
    "A_ts_t = A_ts.transpose()\n",
    "print(np.dot(A_ts_t, np.array([1,1,1])))\n",
    "\n",
    "\n",
    "alphas, betas = get_alpha_and_betas(ts, t0, N=N)\n",
    "print(alphas)\n",
    "#print(betas)"
   ]
  },
  {
   "cell_type": "code",
   "execution_count": 33,
   "metadata": {},
   "outputs": [
    {
     "name": "stderr",
     "output_type": "stream",
     "text": [
      "0it [00:00, ?it/s]"
     ]
    },
    {
     "name": "stderr",
     "output_type": "stream",
     "text": [
      "200it [00:02, 82.96it/s]\n"
     ]
    }
   ],
   "source": [
    "\n",
    "threshold = 1*np.sqrt(Up)\n",
    "A_ts, k_ys, k_zs, matrix = matrix_element(t=T, t0=0.0, k_range=[-threshold, threshold], N=200)"
   ]
  },
  {
   "cell_type": "code",
   "execution_count": 46,
   "metadata": {},
   "outputs": [
    {
     "name": "stdout",
     "output_type": "stream",
     "text": [
      "(200, 200)\n"
     ]
    },
    {
     "ename": "IndexError",
     "evalue": "index 3 is out of bounds for axis 0 with size 3",
     "output_type": "error",
     "traceback": [
      "\u001b[0;31m---------------------------------------------------------------------------\u001b[0m",
      "\u001b[0;31mIndexError\u001b[0m                                Traceback (most recent call last)",
      "Cell \u001b[0;32mIn[46], line 2\u001b[0m\n\u001b[1;32m      1\u001b[0m \u001b[38;5;28mprint\u001b[39m(matrix\u001b[38;5;241m.\u001b[39mshape)\n\u001b[0;32m----> 2\u001b[0m \u001b[38;5;28mprint\u001b[39m(\u001b[43mA_ts\u001b[49m\u001b[43m[\u001b[49m\u001b[38;5;241;43m3\u001b[39;49m\u001b[43m]\u001b[49m)\n",
      "\u001b[0;31mIndexError\u001b[0m: index 3 is out of bounds for axis 0 with size 3"
     ]
    }
   ],
   "source": [
    "print(matrix.shape)\n",
    "print(A_ts[3])"
   ]
  },
  {
   "cell_type": "code",
   "execution_count": 47,
   "metadata": {},
   "outputs": [
    {
     "data": {
      "text/plain": [
       "[<matplotlib.lines.Line2D at 0x7951a2c1f710>]"
      ]
     },
     "execution_count": 47,
     "metadata": {},
     "output_type": "execute_result"
    },
    {
     "data": {
      "image/png": "[encoded data removed]",
      "text/plain": [
       "<Figure size 640x480 with 1 Axes>"
      ]
     },
     "metadata": {},
     "output_type": "display_data"
    }
   ],
   "source": [
    "Y, Z = np.meshgrid(k_ys, k_zs)\n",
    "\n",
    "fig, ax = plt.subplots()\n",
    "\n",
    "ax.contourf(Y, Z, matrix)\n",
    "ax.plot(-A_ts[1], -A_ts[2], 'k-')"
   ]
  },
  {
   "cell_type": "code",
   "execution_count": null,
   "metadata": {},
   "outputs": [
    {
     "name": "stdout",
     "output_type": "stream",
     "text": [
      "[1 2 3]\n"
     ]
    }
   ],
   "source": [
    "x = np.array([[1,1,1,1],\n",
    "              [2,2,2,2],\n",
    "              [3,3,3,3]])\n",
    "print(x[:,0])"
   ]
  },
  {
   "cell_type": "code",
   "execution_count": null,
   "metadata": {},
   "outputs": [],
   "source": []
  }
 ],
 "metadata": {
  "kernelspec": {
   "display_name": "Python 3",
   "language": "python",
   "name": "python3"
  },
  "language_info": {
   "codemirror_mode": {
    "name": "ipython",
    "version": 3
   },
   "file_extension": ".py",
   "mimetype": "text/x-python",
   "name": "python",
   "nbconvert_exporter": "python",
   "pygments_lexer": "ipython3",
   "version": "3.12.3"
  }
 },
 "nbformat": 4,
 "nbformat_minor": 2
}
