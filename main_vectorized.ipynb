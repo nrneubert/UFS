{
 "cells": [
  {
   "cell_type": "code",
   "execution_count": null,
   "metadata": {},
   "outputs": [],
   "source": [
    "import numpy as np\n",
    "import matplotlib.pyplot as plt\n",
    "from scipy.integrate import quad, quad_vec, cumulative_trapezoid, simpson\n",
    "from tqdm import tqdm\n",
    "import timeit"
   ]
  },
  {
   "cell_type": "code",
   "execution_count": 237,
   "metadata": {},
   "outputs": [],
   "source": [
    "\"\"\"\n",
    "Constants\n",
    "\"\"\"\n",
    "# --> Pulse <--\n",
    "wl = 0.057                      # au\n",
    "epsilon = 1\n",
    "intensity = 10e13 / 3.51e16     # au\n",
    "phi = np.pi\n",
    "Nc = 1\n",
    "T = Nc * 2*np.pi/wl\n",
    "\n",
    "F0 = np.sqrt(intensity)\n",
    "A0 = F0 / wl\n",
    "\n",
    "Up = A0**2 * 0.25\n",
    "\n",
    "def envelope(t) : \n",
    "    global wl, Nc, T\n",
    "    return np.sin(np.pi*t/T)**2\n",
    "\n",
    "# --> System <--\n",
    "E0 = -0.5                       # au\n"
   ]
  },
  {
   "cell_type": "code",
   "execution_count": 238,
   "metadata": {},
   "outputs": [],
   "source": [
    "def make_grid(yrange, zrange, nmb_pns) : \n",
    "    ylin = np.linspace(yrange[0], yrange[1], nmb_pns)\n",
    "    zlin = np.linspace(zrange[0], zrange[1], nmb_pns)\n",
    "    return ylin, zlin"
   ]
  },
  {
   "cell_type": "code",
   "execution_count": 239,
   "metadata": {},
   "outputs": [],
   "source": [
    "def time_evolution(tp, t0) : \n",
    "    global E0\n",
    "    return np.exp( -1j*E0*(tp-t0) ) \n",
    "\n",
    "def A(t: np.array) : \n",
    "    global A0, epsilon, phi, Nc\n",
    "    prefac = A0 * envelope(t) / ( np.sqrt( 1 + epsilon**2) )\n",
    "\n",
    "    vec = np.stack([\n",
    "                    np.zeros_like(t), \n",
    "                    epsilon*np.sin(wl*t+phi),\n",
    "                    np.cos(wl*t+phi)\n",
    "    ], axis=0)\n",
    "\n",
    "    # returns: (3, len(t))\n",
    "    return prefac * vec\n",
    "\n",
    "def get_alpha_and_betas(tps: np.array, t0: float, N: int) : \n",
    "    alpha_list = np.zeros(shape=(len(tps),3,))\n",
    "    beta_list = np.zeros_like(tps)\n",
    "\n",
    "    for i, tp in enumerate(tps) : \n",
    "        tgrid = np.linspace(t0, tp, N)\n",
    "        A_of_ts = A(tgrid)\n",
    "        A2_of_ts = np.sum(A_of_ts**2, axis=0)  # shape: (len(tps),)\n",
    "\n",
    "        alpha = simpson(y=A_of_ts, x=tgrid)\n",
    "        beta = simpson(y=A2_of_ts, x=tgrid)\n",
    "        #print(beta)\n",
    "        \n",
    "        alpha_list[i] = alpha\n",
    "        beta_list[i] = beta\n",
    "\n",
    "    # returns: \n",
    "    # alpha_list: (len(tps),3)\n",
    "    # beta_list: (len(tps),)\n",
    "    return (alpha_list, beta_list)\n",
    "\n",
    "def ground_state_fourier(k: np.array) : \n",
    "    return 2**(5/2)/(2*np.pi) * 1/( np.dot(k,k) +1)**2\n",
    "\n",
    "def matrix_element(t: float, t0: float, k_range: np.array, N: int, time_N: int) : \n",
    "    # Time grid\n",
    "    ts = np.linspace(t0, t, time_N)\n",
    "    # Precompute alpha and beta\n",
    "    alphas, betas = get_alpha_and_betas(ts, t0, time_N)\n",
    "    A_tgrid = A(ts) # each column is Ax(t1), Ay(t1), Az(t1)\n",
    "\n",
    "    # k-vectors\n",
    "    k_ys = np.linspace(k_range[0], k_range[1], N)\n",
    "    k_zs = np.linspace(k_range[0], k_range[1], N)\n",
    "\n",
    "    result = np.zeros((N, N))\n",
    "\n",
    "    for i, k_y in tqdm(enumerate(k_ys)) : \n",
    "        for j, k_z in enumerate(k_zs) : \n",
    "            k_vector = np.array([0.0, k_y, k_z])\n",
    "            k2 = k_vector.dot(k_vector)\n",
    "            \n",
    "            prod = np.dot(A_tgrid.transpose(), k_vector)\n",
    "            \n",
    "            state = np.exp( -1j*0.5*k2*(ts-t0) \n",
    "                           + 1j*np.dot(alphas, k_vector) \n",
    "                           + 1j*0.5*betas ) * time_evolution(ts, t0)\n",
    "\n",
    "            integrand = prod * state\n",
    "\n",
    "            # Do simpson integration\n",
    "            integral = simpson(y=integrand, x=ts)\n",
    "\n",
    "            res = -1j * ground_state_fourier(k_vector) * integral\n",
    "\n",
    "            result[i,j] = np.abs(res)**2\n",
    "    \n",
    "    return ts, A_tgrid, k_ys, k_zs, result     \n"
   ]
  },
  {
   "cell_type": "code",
   "execution_count": 240,
   "metadata": {},
   "outputs": [
    {
     "name": "stderr",
     "output_type": "stream",
     "text": [
      "200it [00:04, 49.89it/s]\n"
     ]
    }
   ],
   "source": [
    "\n",
    "threshold = 2.0*np.sqrt(Up)\n",
    "ts, A_ts, k_ys, k_zs, matrix = matrix_element(t=T, t0=0.0, k_range=[-threshold, threshold], N=200, time_N=1000)"
   ]
  },
  {
   "cell_type": "code",
   "execution_count": 241,
   "metadata": {},
   "outputs": [
    {
     "data": {
      "image/png": "[encoded data removed]",
      "text/plain": [
       "<Figure size 640x480 with 2 Axes>"
      ]
     },
     "metadata": {},
     "output_type": "display_data"
    }
   ],
   "source": [
    "Z, Y = np.meshgrid(k_ys, k_zs)\n",
    "\n",
    "fig, ax = plt.subplots()\n",
    "\n",
    "A2 = np.sum(A_ts**2, axis=0)\n",
    "\n",
    "A_ys = - A_ts[1] \n",
    "A_zs = - A_ts[2] \n",
    "\n",
    "ax.plot(A_ys, A_zs, 'w--', alpha=0.4)\n",
    "ax.contourf(Y, Z, matrix)\n",
    "\n",
    "ax.set_xlabel(\"$k_y$ [a.u.]\")\n",
    "ax.set_ylabel(\"$k_z$ [a.u.]\")\n",
    "\n",
    "# Store the contourf object\n",
    "cf = ax.contourf(Y, Z, matrix)\n",
    "fig.colorbar(cf, ax=ax)\n",
    "\n",
    "ax.set_aspect('equal')"
   ]
  },
  {
   "cell_type": "code",
   "execution_count": 171,
   "metadata": {},
   "outputs": [
    {
     "name": "stdout",
     "output_type": "stream",
     "text": [
      "[1 2 3]\n"
     ]
    }
   ],
   "source": [
    "x = np.array([[1,1,1,1],\n",
    "              [2,2,2,2],\n",
    "              [3,3,3,3]])\n",
    "print(x[:,0])"
   ]
  },
  {
   "cell_type": "code",
   "execution_count": null,
   "metadata": {},
   "outputs": [],
   "source": []
  }
 ],
 "metadata": {
  "kernelspec": {
   "display_name": "Python 3",
   "language": "python",
   "name": "python3"
  },
  "language_info": {
   "codemirror_mode": {
    "name": "ipython",
    "version": 3
   },
   "file_extension": ".py",
   "mimetype": "text/x-python",
   "name": "python",
   "nbconvert_exporter": "python",
   "pygments_lexer": "ipython3",
   "version": "3.12.3"
  }
 },
 "nbformat": 4,
 "nbformat_minor": 2
}
