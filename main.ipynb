{
 "cells": [
  {
   "cell_type": "code",
   "execution_count": 2,
   "id": "5112a154",
   "metadata": {},
   "outputs": [],
   "source": [
    "import numpy as np\n",
    "import matplotlib.pyplot as plt\n",
    "from scipy.integrate import quad"
   ]
  },
  {
   "cell_type": "code",
   "execution_count": null,
   "id": "f440221e",
   "metadata": {},
   "outputs": [],
   "source": []
  },
  {
   "cell_type": "code",
   "execution_count": null,
   "id": "39395bbb",
   "metadata": {},
   "outputs": [],
   "source": [
    "\"\"\"\n",
    "Constants\n",
    "\"\"\"\n",
    "# --> Pulse <--\n",
    "wl = 0.057                      # au\n",
    "epsilon = 0\n",
    "intensity = 10e14 / 3.51e16     # au\n",
    "\n",
    "F0 = np.sqrt(intensity)\n",
    "A0 = F0 / wl\n",
    "\n",
    "# --> System <--\n",
    "E0 = -0.5                       # au\n",
    "\n",
    "def time_evolution(t, tp) : \n",
    "    global E0\n",
    "    return np.exp( -1j*E0*(tp-t) ) \n",
    "\n",
    "def ground_state(r) : \n",
    "    return 1/np.sqrt(np.pi) * np.exp(r)\n",
    "\n",
    "def ground_state_fourier(k) : \n",
    "    return 2**(5/2)/(2*np.pi) * 1/(k**2+1)**2\n",
    "\n",
    " "
   ]
  }
 ],
 "metadata": {
  "kernelspec": {
   "display_name": "Python 3",
   "language": "python",
   "name": "python3"
  },
  "language_info": {
   "codemirror_mode": {
    "name": "ipython",
    "version": 3
   },
   "file_extension": ".py",
   "mimetype": "text/x-python",
   "name": "python",
   "nbconvert_exporter": "python",
   "pygments_lexer": "ipython3",
   "version": "3.12.3"
  }
 },
 "nbformat": 4,
 "nbformat_minor": 5
}
