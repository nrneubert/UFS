{
 "cells": [
  {
   "cell_type": "code",
   "execution_count": 15,
   "id": "ae7335b6",
   "metadata": {},
   "outputs": [],
   "source": [
    "import matplotlib.pyplot as plt\n",
    "import numpy as np\n",
    "from mpl_toolkits.axes_grid1.inset_locator import inset_axes\n",
    "\n",
    "from StrongFieldIonizer import StrongFieldIonizer, write_sfi_results, load_sfi_results\n",
    "from matplotlib.animation import FuncAnimation, PillowWriter\n",
    "from tqdm import tqdm"
   ]
  },
  {
   "cell_type": "code",
   "execution_count": 16,
   "id": "6398a24c",
   "metadata": {},
   "outputs": [],
   "source": [
    "save = True\n",
    "name = \"sfi_sweep_intensity_linear\""
   ]
  },
  {
   "cell_type": "code",
   "execution_count": 17,
   "id": "e2839cdf",
   "metadata": {},
   "outputs": [
    {
     "name": "stderr",
     "output_type": "stream",
     "text": [
      "100%|██████████| 20/20 [01:32<00:00,  4.62s/it]\n"
     ]
    }
   ],
   "source": [
    "# setup simulation and k-space\n",
    "sim = StrongFieldIonizer()\n",
    "sim.epsilon = 0\n",
    "sim.t_start = 0.0\n",
    "sim.t_end   = sim.T\n",
    "sim.N_time  = 400\n",
    "sim.Nc = 1\n",
    "\n",
    "#sim.user_envelope = lambda t : 1\n",
    "\n",
    "Up = sim.Up\n",
    "threshold = 3.0 * np.sqrt(Up)\n",
    "k_range = [ -threshold, threshold ]\n",
    "N_ks    = 300\n",
    "\n",
    "k_ys, k_zs = sim.get_k_space(k_range, N_ks)\n",
    "Z, Y = np.meshgrid(k_ys, k_zs)\n",
    "\n",
    "# sweep of values\n",
    "factor = 3.51e16\n",
    "intensity_values = np.logspace(12, 14.2, 20) / factor\n",
    "\n",
    "all_A_ts = []\n",
    "all_matrices = []\n",
    "\n",
    "# run simulations\n",
    "for intensity in tqdm(intensity_values) : \n",
    "    sim.intensity = intensity\n",
    "    A_ts, _, _, matrix = sim.calculate_matrix_elements(k_range=k_range, N_ks=N_ks, progress_bar=False)\n",
    "\n",
    "    all_A_ts.append(A_ts)\n",
    "    all_matrices.append(matrix)\n",
    "    "
   ]
  },
  {
   "cell_type": "code",
   "execution_count": 18,
   "id": "0ce024f5",
   "metadata": {},
   "outputs": [],
   "source": [
    "if(save) : write_sfi_results(outfname=f\"./Animations/{name}.txt.gz\", simulator=sim, k_range=k_range, N_ks=N_ks, parameters=intensity_values, all_A_ts=all_A_ts, all_matrices=all_matrices)"
   ]
  },
  {
   "cell_type": "code",
   "execution_count": 19,
   "id": "0cf6c654",
   "metadata": {},
   "outputs": [
    {
     "data": {
      "image/png": "[encoded data removed]",
      "text/plain": [
       "<Figure size 600x600 with 3 Axes>"
      ]
     },
     "metadata": {},
     "output_type": "display_data"
    }
   ],
   "source": [
    "fig = plt.figure(figsize=(6,6))\n",
    "\n",
    "circle = lambda n : np.sqrt(2*( sim.E0 - sim.Up + n * sim.wl ))\n",
    "\n",
    "\n",
    "def update(i):\n",
    "    # clear the whole figure\n",
    "    fig.clear()\n",
    "\n",
    "    # retrieve simulation results\n",
    "    A_ts = all_A_ts[i]\n",
    "    A_ys, A_zs = -A_ts[1], -A_ts[2]\n",
    "    A2 = np.sum(A_ts**2, axis=0)\n",
    "    matrix = all_matrices[i]\n",
    "\n",
    "    # do all the plotting\n",
    "    ax = fig.add_subplot(1,1,1)\n",
    "\n",
    "    cf = ax.contourf(Y, Z, matrix)\n",
    "    ax.plot(A_ys, A_zs, 'w--', alpha=0.4)\n",
    "\n",
    "    #ns = [17, 18, 19]\n",
    "    #n_string = '$N =$'\n",
    "    #for n in ns : \n",
    "    #    c = plt.Circle((0.0, 0.0), circle(n), color='tab:red', fill=False, alpha=0.5)\n",
    "    #    n_string += f' {n}'\n",
    "    #    if n is not ns[-1] : n_string += ','\n",
    "    #    ax.add_patch(c)\n",
    "\n",
    "    ax.set_xlabel(\"$k_y$ [a.u.]\")\n",
    "    ax.set_ylabel(\"$k_z$ [a.u.]\")\n",
    "    ax.set_aspect('equal')\n",
    "\n",
    "    fig.colorbar(cf, ax=ax)\n",
    "\n",
    "    # text label\n",
    "    ax.text(\n",
    "        0.02, 0.98,               \n",
    "        rf\"$I = ${float(intensity_values[i])*factor:.1e}\",\n",
    "        transform=ax.transAxes,    \n",
    "        color='white',             \n",
    "        va='top', ha='left',       \n",
    "        fontsize=12                \n",
    "    )\n",
    "\n",
    "    # text label\n",
    "    #ax.text(\n",
    "    #    0.02, 0.06,               \n",
    "    #    n_string,\n",
    "    #    transform=ax.transAxes,    \n",
    "    #    color='white',             \n",
    "    #    va='top', ha='left',       \n",
    "    #    fontsize=12                \n",
    "    #)\n",
    "\n",
    "    # make inset plot\n",
    "    iax = inset_axes(ax, width=\"25%\", height=\"25%\", loc='upper right', bbox_to_anchor=(0,0,1,1), bbox_transform=ax.transAxes)\n",
    "    # plot envelope profile\n",
    "    iax.plot(np.arange(len(A2)), A2, color='white', alpha=0.7)\n",
    "    # make transparent\n",
    "    iax.set_facecolor((0,0,0,0))\n",
    "    # remove borders\n",
    "    for spine in iax.spines.values(): spine.set_visible(False)\n",
    "    # remove ticks\n",
    "    iax.tick_params(left=False, bottom=False, labelleft=False, labelbottom=False)\n",
    "\n",
    "\n",
    "ani = FuncAnimation(fig, update,\n",
    "                    frames=len(intensity_values),\n",
    "                    interval=800,   # ms between frames\n",
    "                    blit=False)\n",
    "\n",
    "writer = PillowWriter(fps=2)\n",
    "\n",
    "if(save) : \n",
    "    n = name\n",
    "else : \n",
    "    n = 'test'\n",
    "\n",
    "ani.save(f\"./Animations/{n}.gif\", writer=writer)"
   ]
  },
  {
   "cell_type": "code",
   "execution_count": null,
   "id": "0f1f6fda",
   "metadata": {},
   "outputs": [],
   "source": []
  }
 ],
 "metadata": {
  "kernelspec": {
   "display_name": "Python 3",
   "language": "python",
   "name": "python3"
  },
  "language_info": {
   "codemirror_mode": {
    "name": "ipython",
    "version": 3
   },
   "file_extension": ".py",
   "mimetype": "text/x-python",
   "name": "python",
   "nbconvert_exporter": "python",
   "pygments_lexer": "ipython3",
   "version": "3.12.3"
  }
 },
 "nbformat": 4,
 "nbformat_minor": 5
}
